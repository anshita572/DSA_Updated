{
  "cells": [
    {
      "cell_type": "code",
      "execution_count": null,
      "metadata": {
        "colab": {
          "base_uri": "https://localhost:8080/",
          "height": 35
        },
        "id": "BTOn-cg9J7Sp",
        "outputId": "944b7e4c-c4e5-4e19-ced8-ea5e5e335271"
      },
      "outputs": [
        {
          "data": {
            "application/vnd.google.colaboratory.intrinsic+json": {
              "type": "string"
            },
            "text/plain": [
              "''"
            ]
          },
          "execution_count": 2,
          "metadata": {},
          "output_type": "execute_result"
        }
      ],
      "source": [
        "import tensorflow as tf\n",
        "tf.test.gpu_device_name()"
      ]
    },
    {
      "cell_type": "code",
      "execution_count": null,
      "metadata": {
        "colab": {
          "base_uri": "https://localhost:8080/",
          "height": 35
        },
        "id": "c2O7RU9GUV6S",
        "outputId": "e53cd372-7778-486b-c578-cb85f07eab2e"
      },
      "outputs": [
        {
          "data": {
            "application/vnd.google.colaboratory.intrinsic+json": {
              "type": "string"
            },
            "text/plain": [
              "'/device:GPU:0'"
            ]
          },
          "execution_count": 3,
          "metadata": {},
          "output_type": "execute_result"
        }
      ],
      "source": [
        "import tensorflow as tf\n",
        "tf.test.gpu_device_name()"
      ]
    },
    {
      "cell_type": "code",
      "execution_count": null,
      "metadata": {
        "colab": {
          "base_uri": "https://localhost:8080/"
        },
        "id": "4IqAGorZZ3Vx",
        "outputId": "40027ee0-0c85-4968-e3d6-084bc95f30ae"
      },
      "outputs": [
        {
          "name": "stdout",
          "output_type": "stream",
          "text": [
            "       0     1     2     3     4     5     6     7     8     9     ...  9990  \\\n",
            "0        19    90    66    43    66    31     8    63    85    43  ...     3   \n",
            "1        29     2    29    66    97    26    48    96    17    16  ...    50   \n",
            "2        93    96    54    84    34    97    72    68    39    32  ...    67   \n",
            "3         8    89    85     2    53    36    20    92    37    60  ...    76   \n",
            "4        91    39    10    51    25    59    55    61    72    80  ...    45   \n",
            "...     ...   ...   ...   ...   ...   ...   ...   ...   ...   ...  ...   ...   \n",
            "64995    60    39    13    14    24    17    74    70    11    24  ...    16   \n",
            "64996    56    68    81    73    91    98    30    59    13    43  ...    25   \n",
            "64997    55    98    73    35     1    92    23    56    99    21  ...    31   \n",
            "64998    84    67    41    79    86    57    19    86    25    90  ...     7   \n",
            "64999    30    23    28    45    92    90    82     5    64    90  ...    16   \n",
            "\n",
            "       9991  9992  9993  9994  9995  9996  9997  9998  9999  \n",
            "0        50    39    91    39    47    31    65     7     5  \n",
            "1        55    81    51    69    28    25    50    69    48  \n",
            "2        10     2    93     9    27    85    98    87    54  \n",
            "3        54    33    38    63    13    67    37    18    91  \n",
            "4        64    30    17    21    13    76    59    79    82  \n",
            "...     ...   ...   ...   ...   ...   ...   ...   ...   ...  \n",
            "64995    80    79    53    30    30    27    88     8    12  \n",
            "64996    17    67    85     9     8    63    87    94    16  \n",
            "64997    31    56    41    69     5    48    51    87    11  \n",
            "64998    83    36    68    75    55    32    37    35    76  \n",
            "64999    98    69    61     1     6    33    95    82    45  \n",
            "\n",
            "[65000 rows x 10000 columns]\n"
          ]
        }
      ],
      "source": [
        "import pandas as pd\n",
        "import numpy as np\n",
        "df=pd.DataFrame(np.random.randint(0,100,size=(65000,10000)))\n",
        "print (df)"
      ]
    },
    {
      "cell_type": "code",
      "execution_count": null,
      "metadata": {
        "colab": {
          "base_uri": "https://localhost:8080/"
        },
        "id": "DzpPUSmYWhCS",
        "outputId": "12fc3278-63a4-404b-bfb7-1475a97a2c86"
      },
      "outputs": [
        {
          "name": "stdout",
          "output_type": "stream",
          "text": [
            "The original list : [[5, 8, 9], [2, 0, 9], [5, 4, 2], [2, 3, 9]]\n",
            "The Assigned Matrix : {5: [2, 0, 9], 8: [5, 4, 2], 9: [2, 3, 9]}\n"
          ]
        }
      ],
      "source": [
        "\n",
        "test_list = [[5, 8, 9], [2, 0, 9], [5, 4, 2], [2, 3, 9]]\n",
        "\n",
        "print(\"The original list : \" + str(test_list))\n",
        "\n",
        "res = {test_list[0][ele] : test_list[ele + 1] for ele in range(len(test_list) - 1)}\n",
        "\n",
        "print(\"The Assigned Matrix : \" + str(res))\n"
      ]
    },
    {
      "cell_type": "code",
      "execution_count": null,
      "metadata": {
        "colab": {
          "base_uri": "https://localhost:8080/"
        },
        "id": "iOd1kyGtZfej",
        "outputId": "9cc68343-5594-49dd-e0e8-4e94ced2eecc"
      },
      "outputs": [
        {
          "name": "stdout",
          "output_type": "stream",
          "text": [
            "original list : [7, 4, 6, 7, 4, 2, 6, 4, 2]\n",
            "Matrix in grouping : [[2, 2], [4, 4, 4], [6, 6], [7, 7]]\n"
          ]
        }
      ],
      "source": [
        "from itertools import groupby\n",
        "\n",
        "test_list = [7, 4, 6, 7, 4, 2, 6, 4, 2]\n",
        "\n",
        "print(\"original list : \" + str(test_list))\n",
        "\n",
        "res = [list(val) for key, val in groupby(sorted(test_list))]\n",
        "\t\t\n",
        "print(\"Matrix in grouping : \" + str(res))\n"
      ]
    },
    {
      "cell_type": "code",
      "execution_count": null,
      "metadata": {
        "colab": {
          "base_uri": "https://localhost:8080/"
        },
        "id": "s46YhMjjbtij",
        "outputId": "8ae7dda8-0cb5-4b77-973f-2113d3eb6b9e"
      },
      "outputs": [
        {
          "name": "stdout",
          "output_type": "stream",
          "text": [
            "Printing elements of first matrix\n",
            "[[1 9]\n",
            " [3 4]]\n",
            "Printing elements of second matrix\n",
            "[[4 8]\n",
            " [6 2]]\n",
            "Addition of two matrix\n",
            "[[ 5 17]\n",
            " [ 9  6]]\n"
          ]
        }
      ],
      "source": [
        "import numpy as np\n",
        "\n",
        "A = np.array([[1, 9], [3, 4]])\n",
        "  \n",
        "B = np.array([[4, 8], [6, 2]])\n",
        "\n",
        "print(\"Printing elements of first matrix\")\n",
        "print(A)\n",
        "print(\"Printing elements of second matrix\")\n",
        "print(B)\n",
        "\n",
        "print(\"Addition of two matrix\")\n",
        "print(np.add(A, B))"
      ]
    },
    {
      "cell_type": "code",
      "execution_count": null,
      "metadata": {
        "colab": {
          "base_uri": "https://localhost:8080/"
        },
        "id": "9DhdubwodBZk",
        "outputId": "d6214742-fdfc-4fd0-b66e-0d6c7272460b"
      },
      "outputs": [
        {
          "name": "stdout",
          "output_type": "stream",
          "text": [
            "1 2 3 4 \n",
            "8 7 6 5 \n",
            "9 10 11 12 \n",
            "16 15 14 13 \n"
          ]
        }
      ],
      "source": [
        "import itertools\n",
        "\n",
        "def sub_mat_even(n):\n",
        "\t\n",
        "\ttemp = itertools.count(1)\n",
        "\t\n",
        "\tl = [[next(temp)for i in range(n)]for i in range(n)]\n",
        "\t\n",
        "\tif n%2 == 0:\n",
        "\t\tfor i in range(0,len(l)):\n",
        "\t\t\tif i%2 == 1:\n",
        "\t\t\t\tl[i][:] = l[i][::-1]\n",
        "\t\n",
        "\tfor i in range(n):\n",
        "\t\tfor j in range(n):\n",
        "\t\t\tprint(l[i][j],end=\" \")\n",
        "\t\tprint()\n",
        "\n",
        "n = 4\n",
        "sub_mat_even(n)\n"
      ]
    },
    {
      "cell_type": "code",
      "execution_count": null,
      "metadata": {
        "colab": {
          "base_uri": "https://localhost:8080/"
        },
        "id": "BFxTyttDTw0e",
        "outputId": "bdf1c872-beba-4326-91fc-674063d5919f"
      },
      "outputs": [
        {
          "name": "stdout",
          "output_type": "stream",
          "text": [
            "Elements of Tuple matrix initially :[[(7, 4, 9), (4, 1, 2)], [(9, 2, 6), (4, 1, 7)]]\n",
            "Elements of Tuple matrix after addition :[[(7, 4, 9, 7), (4, 1, 2, 7)], [(9, 2, 6, 18), (4, 1, 7, 18)]]\n"
          ]
        }
      ],
      "source": [
        "tupMat = [[(7, 4, 9), (4, 1, 2)], [(9, 2, 6), (4, 1, 7)]]\n",
        "additionVals = [7, 18]\n",
        "print(\"Elements of Tuple matrix initially :\" + str(tupMat))\n",
        "\n",
        "addTupMat = [[sub + (additionVals[i], ) for sub in ele] for i, ele in enumerate(tupMat)]\n",
        "\n",
        "print(\"Elements of Tuple matrix after addition :\" + str(addTupMat))"
      ]
    }
  ],
  "metadata": {
    "accelerator": "GPU",
    "colab": {
      "name": "Copy of 102183058LAB2HPC.ipynb",
      "provenance": []
    },
    "gpuClass": "standard",
    "kernelspec": {
      "display_name": "Python 3.10.2 64-bit",
      "language": "python",
      "name": "python3"
    },
    "language_info": {
      "name": "python",
      "version": "3.10.2"
    },
    "vscode": {
      "interpreter": {
        "hash": "369f2c481f4da34e4445cda3fffd2e751bd1c4d706f27375911949ba6bb62e1c"
      }
    }
  },
  "nbformat": 4,
  "nbformat_minor": 0
}
