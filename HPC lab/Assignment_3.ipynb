{
  "cells": [
    {
      "cell_type": "code",
      "execution_count": null,
      "metadata": {
        "colab": {
          "base_uri": "https://localhost:8080/"
        },
        "id": "435fRHlHV6KO",
        "outputId": "9696959d-4d61-47ea-e54a-c666300875fe"
      },
      "outputs": [
        {
          "name": "stdout",
          "output_type": "stream",
          "text": [
            "Sum of all elements in given list:  481\n"
          ]
        }
      ],
      "source": [
        "list = [114, 56, 19, 57, 235]\n",
        "\n",
        "total = sum(list)\n",
        "\n",
        "print(\"Sum of all elements in given list: \", total)\n"
      ]
    },
    {
      "cell_type": "code",
      "execution_count": null,
      "metadata": {
        "colab": {
          "base_uri": "https://localhost:8080/"
        },
        "id": "-zJMDccGYaIp",
        "outputId": "8aba7d40-ef58-4583-f4cd-96728f9183e4"
      },
      "outputs": [
        {
          "name": "stdout",
          "output_type": "stream",
          "text": [
            "Largest element is: 777\n"
          ]
        }
      ],
      "source": [
        "list1 = [120, 240, 4, 45, 777, 776]\n",
        "\n",
        "list1.sort()\n",
        "\n",
        "print(\"Largest element is:\", list1[-1])\n"
      ]
    },
    {
      "cell_type": "code",
      "execution_count": null,
      "metadata": {
        "colab": {
          "base_uri": "https://localhost:8080/"
        },
        "id": "FDCUrfdaZLSh",
        "outputId": "3f67511e-1cb6-4714-a4be-00400fe17504"
      },
      "outputs": [
        {
          "name": "stdout",
          "output_type": "stream",
          "text": [
            "[(2, 1), (7, 2), (20, 3), (3, 4), (1, 5)]\n"
          ]
        }
      ],
      "source": [
        "def last(n): return n[-1]  \n",
        "  \n",
        "def sort_list_last(tuples):  \n",
        "  return sorted(tuples, key=last)  \n",
        "  \n",
        "print(sort_list_last([(7, 2), (1, 5), (3, 4), (20, 3), (2, 1)]))  "
      ]
    },
    {
      "cell_type": "code",
      "execution_count": null,
      "metadata": {
        "colab": {
          "base_uri": "https://localhost:8080/"
        },
        "id": "yRp3LVI-a7bv",
        "outputId": "3627ef7d-106e-441b-e3b4-7f3e37712507"
      },
      "outputs": [
        {
          "name": "stdout",
          "output_type": "stream",
          "text": [
            "[2, 4, 10, 20, 5, 8, 7, 9]\n"
          ]
        }
      ],
      "source": [
        "def Remove(duplicate):\n",
        "    final_list = []\n",
        "    for num in duplicate:\n",
        "        if num not in final_list:\n",
        "            final_list.append(num)\n",
        "    return final_list\n",
        "     \n",
        "duplicate = [2, 4, 10, 20, 5, 2, 20, 4, 5, 4, 8, 20, 8, 7, 9, 7, 4, 9]\n",
        "print(Remove(duplicate))"
      ]
    },
    {
      "cell_type": "code",
      "execution_count": null,
      "metadata": {
        "colab": {
          "base_uri": "https://localhost:8080/"
        },
        "id": "PYArXT-5b5bB",
        "outputId": "8ce77c25-fa15-464e-dad0-ddea3444f85d"
      },
      "outputs": [
        {
          "name": "stdout",
          "output_type": "stream",
          "text": [
            "['India', 'facing', 'Pakistan', 'August']\n"
          ]
        }
      ],
      "source": [
        "def long_words(n, str):\n",
        "    word_len = []\n",
        "    txt = str.split(\" \")\n",
        "    for x in txt:\n",
        "        if len(x) > n:\n",
        "            word_len.append(x)\n",
        "    return word_len\t\n",
        "print(long_words(4, \"India will be facing Pakistan on 28th August in Asia cup\"))"
      ]
    },
    {
      "cell_type": "code",
      "execution_count": null,
      "metadata": {
        "colab": {
          "base_uri": "https://localhost:8080/",
          "height": 235
        },
        "id": "Iy74omwDcgzh",
        "outputId": "dda76d8a-e7e9-4a36-a794-67eafcf4e0aa"
      },
      "outputs": [
        {
          "ename": "TypeError",
          "evalue": "ignored",
          "output_type": "error",
          "traceback": [
            "\u001b[0;31m---------------------------------------------------------------------------\u001b[0m",
            "\u001b[0;31mTypeError\u001b[0m                                 Traceback (most recent call last)",
            "\u001b[0;32m<ipython-input-31-a224c664e6a8>\u001b[0m in \u001b[0;36m<module>\u001b[0;34m()\u001b[0m\n\u001b[1;32m      2\u001b[0m    \u001b[0mprint\u001b[0m\u001b[0;34m(\u001b[0m\u001b[0;34m\"Difference of two lists ::>\"\u001b[0m\u001b[0;34m)\u001b[0m\u001b[0;34m\u001b[0m\u001b[0;34m\u001b[0m\u001b[0m\n\u001b[1;32m      3\u001b[0m    \u001b[0;32mreturn\u001b[0m \u001b[0;34m(\u001b[0m\u001b[0mlist\u001b[0m\u001b[0;34m(\u001b[0m\u001b[0mset\u001b[0m\u001b[0;34m(\u001b[0m\u001b[0mA\u001b[0m\u001b[0;34m)\u001b[0m \u001b[0;34m-\u001b[0m \u001b[0mset\u001b[0m\u001b[0;34m(\u001b[0m\u001b[0mB\u001b[0m\u001b[0;34m)\u001b[0m\u001b[0;34m)\u001b[0m\u001b[0;34m)\u001b[0m\u001b[0;34m\u001b[0m\u001b[0;34m\u001b[0m\u001b[0m\n\u001b[0;32m----> 4\u001b[0;31m \u001b[0mA\u001b[0m\u001b[0;34m=\u001b[0m \u001b[0mlist\u001b[0m\u001b[0;34m(\u001b[0m\u001b[0;34m)\u001b[0m\u001b[0;34m\u001b[0m\u001b[0;34m\u001b[0m\u001b[0m\n\u001b[0m\u001b[1;32m      5\u001b[0m \u001b[0mn1\u001b[0m\u001b[0;34m=\u001b[0m\u001b[0mint\u001b[0m\u001b[0;34m(\u001b[0m\u001b[0minput\u001b[0m\u001b[0;34m(\u001b[0m\u001b[0;34m\"Enter the size of the first List ::\"\u001b[0m\u001b[0;34m)\u001b[0m\u001b[0;34m)\u001b[0m\u001b[0;34m\u001b[0m\u001b[0;34m\u001b[0m\u001b[0m\n\u001b[1;32m      6\u001b[0m \u001b[0;34m\u001b[0m\u001b[0m\n",
            "\u001b[0;31mTypeError\u001b[0m: 'list' object is not callable"
          ]
        }
      ],
      "source": [
        "def Diff(A, B):\n",
        "   print(\"Difference of two lists ::>\")\n",
        "   return (list(set(A) - set(B))) \n",
        "A= list()\n",
        "n1=int(input(\"Enter the size of the first List ::\"))\n",
        "\n",
        "print(\"Enter the Element of first List ::\")\n",
        "for i in range(int(n1)):\n",
        "   k=int(input(\"\"))\n",
        "   A.append(k)\n",
        "B=list()\n",
        "n2=int(input(\"Enter the size of the second List ::\"))\n",
        "print(\"Enter the Element of second List ::\")\n",
        "for i in range(int(n2)):\n",
        "   k=int(input(\"\"))\n",
        "   B.append(k)\n",
        "print(Diff(A, B)) "
      ]
    }
  ],
  "metadata": {
    "colab": {
      "name": "102183058LAB3HPC.ipynb",
      "provenance": []
    },
    "kernelspec": {
      "display_name": "Python 3.10.2 64-bit",
      "language": "python",
      "name": "python3"
    },
    "language_info": {
      "name": "python",
      "version": "3.10.2"
    },
    "vscode": {
      "interpreter": {
        "hash": "369f2c481f4da34e4445cda3fffd2e751bd1c4d706f27375911949ba6bb62e1c"
      }
    }
  },
  "nbformat": 4,
  "nbformat_minor": 0
}
