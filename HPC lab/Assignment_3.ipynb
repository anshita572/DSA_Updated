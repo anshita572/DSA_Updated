{
  "cells": [
    {
      "cell_type": "code",
      "execution_count": null,
      "metadata": {
        "colab": {
          "base_uri": "https://localhost:8080/"
        },
        "id": "435fRHlHV6KO",
        "outputId": "9696959d-4d61-47ea-e54a-c666300875fe"
      },
      "outputs": [
        {
          "name": "stdout",
          "output_type": "stream",
          "text": [
            "Sum of all elements in given list:  481\n"
          ]
        }
      ],
      "source": [
        "list = [114, 56, 19, 57, 235]\n",
        "\n",
        "total = sum(list)\n",
        "\n",
        "print(\"Sum of all elements in given list: \", total)\n"
      ]
    },
    {
      "cell_type": "code",
      "execution_count": null,
      "metadata": {
        "colab": {
          "base_uri": "https://localhost:8080/"
        },
        "id": "-zJMDccGYaIp",
        "outputId": "8aba7d40-ef58-4583-f4cd-96728f9183e4"
      },
      "outputs": [
        {
          "name": "stdout",
          "output_type": "stream",
          "text": [
            "Largest element is: 777\n"
          ]
        }
      ],
      "source": [
        "list1 = [120, 240, 4, 45, 777, 776]\n",
        "\n",
        "list1.sort()\n",
        "\n",
        "print(\"Largest element is:\", list1[-1])\n"
      ]
    },
    {
      "cell_type": "code",
      "execution_count": null,
      "metadata": {
        "colab": {
          "base_uri": "https://localhost:8080/"
        },
        "id": "FDCUrfdaZLSh",
        "outputId": "3f67511e-1cb6-4714-a4be-00400fe17504"
      },
      "outputs": [
        {
          "name": "stdout",
          "output_type": "stream",
          "text": [
            "[(2, 1), (7, 2), (20, 3), (3, 4), (1, 5)]\n"
          ]
        }
      ],
      "source": [
        "def last(n): return n[-1]  \n",
        "  \n",
        "def sort_list_last(tuples):  \n",
        "  return sorted(tuples, key=last)  \n",
        "  \n",
        "print(sort_list_last([(7, 2), (1, 5), (3, 4), (20, 3), (2, 1)]))  "
      ]
    },
    {
      "cell_type": "code",
      "execution_count": null,
      "metadata": {
        "colab": {
          "base_uri": "https://localhost:8080/"
        },
        "id": "yRp3LVI-a7bv",
        "outputId": "3627ef7d-106e-441b-e3b4-7f3e37712507"
      },
      "outputs": [
        {
          "name": "stdout",
          "output_type": "stream",
          "text": [
            "[2, 4, 10, 20, 5, 8, 7, 9]\n"
          ]
        }
      ],
      "source": [
        "def Remove(duplicate):\n",
        "    final_list = []\n",
        "    for num in duplicate:\n",
        "        if num not in final_list:\n",
        "            final_list.append(num)\n",
        "    return final_list\n",
        "     \n",
        "duplicate = [2, 4, 10, 20, 5, 2, 20, 4, 5, 4, 8, 20, 8, 7, 9, 7, 4, 9]\n",
        "print(Remove(duplicate))"
      ]
    },
    {
      "cell_type": "code",
      "execution_count": null,
      "metadata": {
        "colab": {
          "base_uri": "https://localhost:8080/"
        },
        "id": "PYArXT-5b5bB",
        "outputId": "8ce77c25-fa15-464e-dad0-ddea3444f85d"
      },
      "outputs": [
        {
          "name": "stdout",
          "output_type": "stream",
          "text": [
            "['India', 'facing', 'Pakistan', 'August']\n"
          ]
        }
      ],
      "source": [
        "def long_words(n, str):\n",
        "    word_len = []\n",
        "    txt = str.split(\" \")\n",
        "    for x in txt:\n",
        "        if len(x) > n:\n",
        "            word_len.append(x)\n",
        "    return word_len\t\n",
        "print(long_words(4, \"India will be facing Pakistan on 28th August in Asia cup\"))"
      ]
    },
    {
      "cell_type": "code",
      "execution_count": 1,
      "metadata": {
        "colab": {
          "base_uri": "https://localhost:8080/",
          "height": 235
        },
        "id": "Iy74omwDcgzh",
        "outputId": "dda76d8a-e7e9-4a36-a794-67eafcf4e0aa"
      },
      "outputs": [
        {
          "ename": "ValueError",
          "evalue": "invalid literal for int() with base 10: ''",
          "output_type": "error",
          "traceback": [
            "\u001b[1;31m---------------------------------------------------------------------------\u001b[0m",
            "\u001b[1;31mValueError\u001b[0m                                Traceback (most recent call last)",
            "\u001b[1;32me:\\DSA_Updated\\HPC lab\\Assignment_3.ipynb Cell 6\u001b[0m in \u001b[0;36m<module>\u001b[1;34m\u001b[0m\n\u001b[0;32m      <a href='vscode-notebook-cell:/e%3A/DSA_Updated/HPC%20lab/Assignment_3.ipynb#W5sZmlsZQ%3D%3D?line=2'>3</a>\u001b[0m    \u001b[39mreturn\u001b[39;00m (\u001b[39mlist\u001b[39m(\u001b[39mset\u001b[39m(A) \u001b[39m-\u001b[39m \u001b[39mset\u001b[39m(B))) \n\u001b[0;32m      <a href='vscode-notebook-cell:/e%3A/DSA_Updated/HPC%20lab/Assignment_3.ipynb#W5sZmlsZQ%3D%3D?line=3'>4</a>\u001b[0m A\u001b[39m=\u001b[39m \u001b[39mlist\u001b[39m()\n\u001b[1;32m----> <a href='vscode-notebook-cell:/e%3A/DSA_Updated/HPC%20lab/Assignment_3.ipynb#W5sZmlsZQ%3D%3D?line=4'>5</a>\u001b[0m n1\u001b[39m=\u001b[39m\u001b[39mint\u001b[39;49m(\u001b[39minput\u001b[39;49m(\u001b[39m\"\u001b[39;49m\u001b[39mEnter the size of the first List ::\u001b[39;49m\u001b[39m\"\u001b[39;49m))\n\u001b[0;32m      <a href='vscode-notebook-cell:/e%3A/DSA_Updated/HPC%20lab/Assignment_3.ipynb#W5sZmlsZQ%3D%3D?line=6'>7</a>\u001b[0m \u001b[39mprint\u001b[39m(\u001b[39m\"\u001b[39m\u001b[39mEnter the Element of first List ::\u001b[39m\u001b[39m\"\u001b[39m)\n\u001b[0;32m      <a href='vscode-notebook-cell:/e%3A/DSA_Updated/HPC%20lab/Assignment_3.ipynb#W5sZmlsZQ%3D%3D?line=7'>8</a>\u001b[0m \u001b[39mfor\u001b[39;00m i \u001b[39min\u001b[39;00m \u001b[39mrange\u001b[39m(\u001b[39mint\u001b[39m(n1)):\n",
            "\u001b[1;31mValueError\u001b[0m: invalid literal for int() with base 10: ''"
          ]
        }
      ],
      "source": [
        "def Diff(A, B):\n",
        "   print(\"Difference of two lists ::>\")\n",
        "   return (list(set(A) - set(B))) \n",
        "A= list()\n",
        "n1=int(input(\"Enter the size of the first List ::\"))\n",
        "\n",
        "print(\"Enter the Element of first List ::\")\n",
        "for i in range(int(n1)):\n",
        "   k=int(input(\"\"))\n",
        "   A.append(k)\n",
        "B=list()\n",
        "n2=int(input(\"Enter the size of the second List ::\"))\n",
        "print(\"Enter the Element of second List ::\")\n",
        "for i in range(int(n2)):\n",
        "   k=int(input(\"\"))\n",
        "   B.append(k)\n",
        "print(Diff(A, B)) "
      ]
    }
  ],
  "metadata": {
    "colab": {
      "name": "102183058LAB3HPC.ipynb",
      "provenance": []
    },
    "kernelspec": {
      "display_name": "Python 3.10.2 64-bit",
      "language": "python",
      "name": "python3"
    },
    "language_info": {
      "codemirror_mode": {
        "name": "ipython",
        "version": 3
      },
      "file_extension": ".py",
      "mimetype": "text/x-python",
      "name": "python",
      "nbconvert_exporter": "python",
      "pygments_lexer": "ipython3",
      "version": "3.10.2"
    },
    "vscode": {
      "interpreter": {
        "hash": "369f2c481f4da34e4445cda3fffd2e751bd1c4d706f27375911949ba6bb62e1c"
      }
    }
  },
  "nbformat": 4,
  "nbformat_minor": 0
}
