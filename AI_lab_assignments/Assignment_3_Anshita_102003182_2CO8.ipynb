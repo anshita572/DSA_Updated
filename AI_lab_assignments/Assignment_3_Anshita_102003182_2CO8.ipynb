{
 "cells": [
  {
   "cell_type": "code",
   "execution_count": 2,
   "metadata": {},
   "outputs": [
    {
     "name": "stdout",
     "output_type": "stream",
     "text": [
      "Manhattan distance for  0 is  1\n",
      "Manhattan distance for  1 is  1\n",
      "Manhattan distance for  2 is  1\n",
      "Manhattan distance for  3 is  0\n",
      "Manhattan distance for  4 is  0\n",
      "Manhattan distance for  5 is  0\n",
      "Manhattan distance for  6 is  0\n",
      "Manhattan distance for  7 is  0\n",
      "Manhattan distance for  8 is  1\n",
      "Euclidean distance for  0  is  1.0\n",
      "Euclidean distance for  1  is  1.0\n",
      "Euclidean distance for  2  is  1.0\n",
      "Euclidean distance for  3  is  0.0\n",
      "Euclidean distance for  4  is  0.0\n",
      "Euclidean distance for  5  is  0.0\n",
      "Euclidean distance for  6  is  0.0\n",
      "Euclidean distance for  7  is  0.0\n",
      "Euclidean distance for  8  is  1.0\n",
      "Minkowski distance for  0  is  1.0\n",
      "Minkowski distance for  1  is  1.0\n",
      "Minkowski distance for  2  is  1.0\n",
      "Minkowski distance for  3  is  0.0\n",
      "Minkowski distance for  4  is  0.0\n",
      "Minkowski distance for  5  is  0.0\n",
      "Minkowski distance for  6  is  0.0\n",
      "Minkowski distance for  7  is  0.0\n",
      "Minkowski distance for  8  is  1.0\n"
     ]
    }
   ],
   "source": [
    "\n",
    "import math #for using sqrt function\n",
    "initial=[[2,0,3],[1,8,4],[7,6,5]] # empty space represnted by 0 here\n",
    "goal=[[1,2,3],[8,0,4],[7,6,5]]\n",
    "Dict={} #for storing indices of the elements as tuples of initial matrix\n",
    "Dict1={} #for storing indices of the elements as tuples of goal matrix\n",
    "for i in range(len(initial)):\n",
    "  for j in range(len(initial[i])):\n",
    "    newTup=(i,j)\n",
    "    val=initial[i][j]\n",
    "    val1=goal[i][j]\n",
    "    Dict1[val1]=newTup\n",
    "    Dict[val]=newTup\n",
    "# print(Dict)\n",
    "# print(Dict1)\n",
    "for i in range(9):\n",
    "  print(\"Manhattan distance for \",i,\"is \",end=\" \")\n",
    "  initTup=Dict[i]\n",
    "  newTup=Dict1[i]\n",
    "  distance=abs(initTup[0]-newTup[0])+abs(initTup[1]-newTup[1])\n",
    "  print(distance)\n",
    "for i in range(9):\n",
    "  print (\"Euclidean distance for \",i,\" is \",end=\" \")\n",
    "  initTup=Dict[i]\n",
    "  newTup=Dict1[i]\n",
    "  distance=pow(initTup[0]-newTup[0],2)+pow(initTup[1]-newTup[1],2)\n",
    "  distance=math.sqrt(distance)\n",
    "  print(distance)\n",
    "p=3 #for minkowski distance\n",
    "for i in range(9):\n",
    "  print (\"Minkowski distance for \",i,\" is \",end=\" \")\n",
    "  initTup=Dict[i]\n",
    "  newTup=Dict1[i]\n",
    "  distance=pow((abs(initTup[0]-newTup[0])),p)+pow((abs(initTup[1]-newTup[1])),p)\n",
    "  distance=math.pow(distance,1/p);\n",
    "  print(distance)"
   ]
  }
 ],
 "metadata": {
  "interpreter": {
   "hash": "2be5faf79681da6f2a61fdfdd5405d65d042280f7fba6178067603e3a2925119"
  },
  "kernelspec": {
   "display_name": "Python 3.10.2 64-bit",
   "language": "python",
   "name": "python3"
  },
  "language_info": {
   "codemirror_mode": {
    "name": "ipython",
    "version": 3
   },
   "file_extension": ".py",
   "mimetype": "text/x-python",
   "name": "python",
   "nbconvert_exporter": "python",
   "pygments_lexer": "ipython3",
   "version": "3.10.2"
  },
  "orig_nbformat": 4
 },
 "nbformat": 4,
 "nbformat_minor": 2
}
