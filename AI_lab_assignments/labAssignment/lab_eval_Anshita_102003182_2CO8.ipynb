{
 "cells": [
  {
   "cell_type": "code",
   "execution_count": 6,
   "metadata": {},
   "outputs": [
    {
     "name": "stdout",
     "output_type": "stream",
     "text": [
      "(4, 0) -->\n",
      "(0, 3) -->\n",
      "(3, 0) -->\n",
      "(3, 3) -->\n",
      "(4, 2) -->\n",
      "Depth limit 5 imposed,hence problem could not be solved\n"
     ]
    }
   ],
   "source": [
    "\n",
    "#Anshita 102003182 2CO8\n",
    "#water jug problem\n",
    "capacity_large = 4\n",
    "capacity_small = 3\n",
    "\n",
    "jug1 = 4\n",
    "jug2 = 0\n",
    "\n",
    "state = (jug1, jug2)\n",
    "\n",
    "count =0\n",
    "\n",
    "while( count<5):\n",
    "  if(jug2==0):\n",
    "    jug2=capacity_small\n",
    "    print(state, '-->')\n",
    "    state = (jug1, jug2)\n",
    "    count+=1\n",
    "  \n",
    "  if (jug1 ==2):\n",
    "    break\n",
    "\n",
    "  if (jug1==capacity_large):\n",
    "    jug1=0\n",
    "    state = (jug1, jug2)\n",
    "    print(state, '-->')\n",
    "    count+=1\n",
    "\n",
    "  if (jug1 ==2):\n",
    "    break\n",
    "\n",
    "  if (jug1==0):\n",
    "    jug1= jug1+ jug2\n",
    "    jug2=0\n",
    "    state = (jug1, jug2)\n",
    "    print(state, '-->')\n",
    "    count+=1\n",
    "\n",
    "  if (jug1 ==2):\n",
    "    break\n",
    "\n",
    "  if(jug2==0):\n",
    "    jug2=capacity_small\n",
    "    state = (jug1, jug2)\n",
    "    print(state, '-->')\n",
    "    count+=1\n",
    "\n",
    "  if (jug1 ==2):\n",
    "    break\n",
    "\n",
    "\n",
    "  if (jug1!=0 and jug1< capacity_large):\n",
    "    left = capacity_large - jug1\n",
    "    jug1 = jug1 + left\n",
    "    jug2 = jug2 - left\n",
    "    state = (jug1, jug2)\n",
    "\n",
    "    print( state, '-->')\n",
    "    count+=1\n",
    "\n",
    "\n",
    "  if (jug1 ==2):\n",
    "    break\n",
    "\n",
    "\n",
    "if( jug1==2):\n",
    "  print(\"Problem solved\")\n",
    "\n",
    "else:\n",
    "  print(\"Depth limit 5 imposed,hence problem could not be solved\")\n",
    "\n",
    "\n",
    "\n",
    "\n"
   ]
  }
 ],
 "metadata": {
  "interpreter": {
   "hash": "2be5faf79681da6f2a61fdfdd5405d65d042280f7fba6178067603e3a2925119"
  },
  "kernelspec": {
   "display_name": "Python 3.10.2 64-bit",
   "language": "python",
   "name": "python3"
  },
  "language_info": {
   "codemirror_mode": {
    "name": "ipython",
    "version": 3
   },
   "file_extension": ".py",
   "mimetype": "text/x-python",
   "name": "python",
   "nbconvert_exporter": "python",
   "pygments_lexer": "ipython3",
   "version": "3.10.2"
  },
  "orig_nbformat": 4
 },
 "nbformat": 4,
 "nbformat_minor": 2
}
