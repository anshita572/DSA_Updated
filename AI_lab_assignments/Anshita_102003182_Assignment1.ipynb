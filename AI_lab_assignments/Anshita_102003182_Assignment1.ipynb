{
 "cells": [
  {
   "cell_type": "code",
   "execution_count": 2,
   "metadata": {},
   "outputs": [
    {
     "name": "stdout",
     "output_type": "stream",
     "text": [
      "0.875\n"
     ]
    }
   ],
   "source": [
    "#ques1\n",
    "x = int(input(\"enter the number\"))\n",
    "n = int(input(\"enter second number\"))\n",
    "f = 1\n",
    "\n",
    "\n",
    "def fact(n):\n",
    "    global f\n",
    "    if (n == 0):\n",
    "        return 1\n",
    "    if (n > 0):\n",
    "        f = f * n\n",
    "        fact(n - 1)\n",
    "    return f\n",
    "\n",
    "\n",
    "# print(fact(5))\n",
    "\n",
    "\n",
    "s = 0\n",
    "for i in range(0, n + 1):\n",
    "    s = s + ((pow(x, n)) / fact(n))\n",
    "print(s)\n"
   ]
  },
  {
   "cell_type": "code",
   "execution_count": 4,
   "metadata": {},
   "outputs": [
    {
     "name": "stdout",
     "output_type": "stream",
     "text": [
      "887\n",
      "875\n",
      "447\n",
      "897\n",
      "287\n",
      "371\n",
      "665\n",
      "551\n",
      "675\n",
      "679\n",
      "693\n",
      "527\n",
      "321\n",
      "847\n",
      "121\n",
      "615\n",
      "339\n",
      "635\n",
      "449\n",
      "163\n",
      "435\n",
      "157\n",
      "689\n",
      "753\n",
      "699\n",
      "481\n",
      "861\n",
      "191\n",
      "247\n",
      "439\n",
      "297\n",
      "457\n",
      "787\n",
      "211\n",
      "329\n",
      "221\n",
      "655\n",
      "533\n",
      "557\n",
      "763\n",
      "441\n",
      "41\n",
      "116\n",
      "196\n",
      "436\n",
      "768\n",
      "750\n",
      "354\n",
      "718\n",
      "574\n",
      "128\n",
      "220\n",
      "832\n",
      "510\n",
      "240\n",
      "160\n",
      "270\n",
      "758\n",
      "520\n",
      "444\n",
      "524\n",
      "492\n",
      "140\n",
      "236\n",
      "332\n",
      "494\n",
      "700\n",
      "642\n",
      "504\n",
      "368\n",
      "538\n",
      "148\n",
      "146\n",
      "768\n",
      "164\n",
      "272\n",
      "592\n",
      "182\n",
      "756\n",
      "526\n",
      "222\n",
      "284\n",
      "222\n",
      "616\n",
      "150\n",
      "842\n",
      "366\n",
      "496\n",
      "444\n",
      "47\n",
      "421\n",
      "461\n",
      "881\n",
      "281\n",
      "239\n",
      "859\n",
      "701\n",
      "883\n",
      "683\n",
      "173\n",
      "283\n",
      "11\n"
     ]
    }
   ],
   "source": [
    "#ques2\n",
    "def prime(n):\n",
    "        c=0\n",
    "        for i in range(2,n):\n",
    "            if(n%i!=0):\n",
    "                c=c+1\n",
    "        if(c==n-2):\n",
    "            return True\n",
    "        else:\n",
    "            return False\n",
    "#a)\n",
    "import random\n",
    "c=0\n",
    "for i in range(0,100):\n",
    "    x=random.randint(100,900)\n",
    "    if(x%2!=0):\n",
    "        print(x)\n",
    "        c=c+1\n",
    "print(c)\n",
    "\n",
    "#b)\n",
    "import random\n",
    "c=0\n",
    "for i in range(0,100):\n",
    "    x=random.randint(100,900)\n",
    "    if(x%2==0):\n",
    "        print(x)\n",
    "        c=c+1\n",
    "print(c)\n",
    "\n",
    "#c)\n",
    "import random\n",
    "c=0\n",
    "for i in range(0,100):\n",
    "    x=random.randint(100,900)\n",
    "    if(prime(x)):\n",
    "        print(x)\n",
    "        c=c+1\n",
    "print(c)\n"
   ]
  },
  {
   "cell_type": "code",
   "execution_count": 5,
   "metadata": {},
   "outputs": [
    {
     "name": "stdout",
     "output_type": "stream",
     "text": [
      "1\n",
      "2\n",
      "3\n"
     ]
    }
   ],
   "source": [
    "#ques3\n",
    "a=int(input(\"enter the first number\"))\n",
    "b=int(input(\"enter the second number\"))\n",
    "\n",
    "for i in range(a,b+1):\n",
    "    for j in range (2,i):\n",
    "        if(i%j==0):\n",
    "            break\n",
    "    else:\n",
    "        print(i)\n"
   ]
  },
  {
   "cell_type": "code",
   "execution_count": 1,
   "metadata": {},
   "outputs": [
    {
     "name": "stdout",
     "output_type": "stream",
     "text": [
      "1\n",
      "2\n",
      "4\n",
      "5\n"
     ]
    }
   ],
   "source": [
    "#ques4\n",
    "x=[1,2,3,4,5]\n",
    "y=[5,4,6,7,1,2]\n",
    "for i in x:\n",
    "    if i in y:\n",
    "        print(i)\n"
   ]
  },
  {
   "cell_type": "code",
   "execution_count": 7,
   "metadata": {},
   "outputs": [
    {
     "name": "stdout",
     "output_type": "stream",
     "text": [
      "2012\n",
      "2016\n",
      "2020\n"
     ]
    }
   ],
   "source": [
    "#ques5\n",
    "a=int(input(\"enter the first year\"))\n",
    "b=int(input(\"enter the  second year\"))\n",
    "for i in range(a,b+1):\n",
    "    if( (i%4==0 and i%100!=0) or (i%400==0) ):\n",
    "           print(i)\n"
   ]
  },
  {
   "cell_type": "code",
   "execution_count": 8,
   "metadata": {},
   "outputs": [
    {
     "name": "stdout",
     "output_type": "stream",
     "text": [
      "10000.0\n"
     ]
    }
   ],
   "source": [
    "#ques6\n",
    "BS=int(input(\"enter your basic salary\"))\n",
    "if(BS<=10000):\n",
    "    HRA=0.2*BS\n",
    "    DA=0.8*BS\n",
    "    GS=BS+HRA+DA\n",
    "elif(BS<=20000):\n",
    "    HRA=0.25*BS\n",
    "    DA=0.9*BS\n",
    "    GS=BS+HRA+DA\n",
    "else:\n",
    "    HRA=0.3*BS\n",
    "    DA=.95*BS\n",
    "    GS=BS+DA+HRA\n",
    "print(GS)\n"
   ]
  },
  {
   "cell_type": "code",
   "execution_count": 11,
   "metadata": {},
   "outputs": [
    {
     "name": "stdout",
     "output_type": "stream",
     "text": [
      "valid\n"
     ]
    }
   ],
   "source": [
    "#ques7\n",
    "a=input(\"enter the passcode\")\n",
    "d=0\n",
    "b=['0','1','2','3','4','5','6','7','8','9']\n",
    "c=['$','#','@']\n",
    "if(len(a)>=6 and len(a)<=16):\n",
    "    for i in range(0,len(a)):\n",
    "        if((ord(a[i])>=65 and ord(a[i])<=90) or (ord(a[i])>=91 and ord(a[i])<=116) or (a[i] in b) or (a[i] in c)):\n",
    "                  d=d+1\n",
    "\n",
    "if(d==len(a)):\n",
    "    print(\"valid\")\n",
    "else:\n",
    "    print(\"invalid\")\n"
   ]
  },
  {
   "cell_type": "code",
   "execution_count": 12,
   "metadata": {},
   "outputs": [
    {
     "name": "stdout",
     "output_type": "stream",
     "text": [
      "[10, 20, 30, 40, 50, 60, 70, 80, 90, 200, 300]\n",
      "[10, 40, 50, 60, 70, 80, 90, 200, 300]\n",
      "[10, 40, 50, 60, 70, 80, 90, 200, 300]\n",
      "[300, 200, 90, 80, 70, 60, 50, 40, 10]\n"
     ]
    }
   ],
   "source": [
    "#ques8\n",
    "L=[10,20,30,40,50,60,70,80,90]\n",
    "L.append(200)\n",
    "L.append(300)\n",
    "print(L)\n",
    "L.remove(20)\n",
    "L.remove(30)\n",
    "print(L)\n",
    "L.sort()\n",
    "print(L)\n",
    "L.sort(reverse=True)\n",
    "print(L)\n"
   ]
  },
  {
   "cell_type": "code",
   "execution_count": 13,
   "metadata": {},
   "outputs": [
    {
     "name": "stdout",
     "output_type": "stream",
     "text": [
      "{1: 'One', 2: 'Two', 3: 'Three', 4: 'Four', 5: 'Five', 6: 'Six'}\n",
      "{1: 'One', 3: 'Three', 4: 'Four', 5: 'Five', 6: 'Six'}\n",
      "yes 6 is present\n",
      "5\n",
      " OneThreeFourFiveSix\n"
     ]
    }
   ],
   "source": [
    "#ques9\n",
    "D={1:\"One\", 2: \"Two\", 3:\"Three\", 4:\"Four\", 5:\"Five\"}\n",
    "# (1)\n",
    "D[6]=\"Six\"\n",
    "print(D)\n",
    "#(2)\n",
    "D.pop(2)\n",
    "print(D)\n",
    "#(3)\n",
    "for i in D:\n",
    "    if(i==6):\n",
    "        print(\"yes 6 is present\")\n",
    "c=0\n",
    "#(4)\n",
    "for i in D:\n",
    "    c=c+1\n",
    "print(c)\n",
    "#(5)\n",
    "s=\" \"\n",
    "for i in D:\n",
    "    s=s+D[i]\n",
    "print(s)\n"
   ]
  },
  {
   "cell_type": "code",
   "execution_count": null,
   "metadata": {},
   "outputs": [],
   "source": [
    "def compound_interest(p, r, t):\n",
    "    n = 1  # yearly\n",
    "    f = (1+(r/n))\n",
    "    m = pow(f, n*t)\n",
    "    ci = p*m\n",
    "    return ci\n"
   ]
  },
  {
   "cell_type": "code",
   "execution_count": 15,
   "metadata": {},
   "outputs": [
    {
     "name": "stdout",
     "output_type": "stream",
     "text": [
      "14332.723199999997\n",
      "14332.723199999997\n"
     ]
    }
   ],
   "source": [
    "# ques10\n",
    "from calculateCompound import *\n",
    "\n",
    "\n",
    "def compound_interest(p, r, t):\n",
    "    n = 1  # yearly\n",
    "    f = (1+(r/n))\n",
    "    m = pow(f, n*t)\n",
    "    ci = p*m\n",
    "    return ci\n",
    "\n",
    "\n",
    "# (a)\n",
    "print(compound_interest(4000, 0.2, 7))\n",
    "\n",
    "# (b)\n",
    "print(compound_interest(4000, 0.2, 7))\n"
   ]
  }
 ],
 "metadata": {
  "interpreter": {
   "hash": "2be5faf79681da6f2a61fdfdd5405d65d042280f7fba6178067603e3a2925119"
  },
  "kernelspec": {
   "display_name": "Python 3.10.2 64-bit",
   "language": "python",
   "name": "python3"
  },
  "language_info": {
   "codemirror_mode": {
    "name": "ipython",
    "version": 3
   },
   "file_extension": ".py",
   "mimetype": "text/x-python",
   "name": "python",
   "nbconvert_exporter": "python",
   "pygments_lexer": "ipython3",
   "version": "3.10.2"
  },
  "orig_nbformat": 4
 },
 "nbformat": 4,
 "nbformat_minor": 2
}
